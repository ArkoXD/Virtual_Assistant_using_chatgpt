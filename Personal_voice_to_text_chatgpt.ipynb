{
 "cells": [
  {
   "cell_type": "markdown",
   "id": "d7413d2b",
   "metadata": {},
   "source": [
    "# Import libraries"
   ]
  },
  {
   "cell_type": "code",
   "execution_count": 1,
   "id": "e9fe9b8d",
   "metadata": {},
   "outputs": [],
   "source": [
    "import gradio as gr\n",
    "import openai\n",
    "import os\n",
    "import warnings\n",
    "warnings.filterwarnings(\"ignore\")"
   ]
  },
  {
   "cell_type": "code",
   "execution_count": 2,
   "id": "4978a2be",
   "metadata": {},
   "outputs": [],
   "source": [
    "openai.api_key = \"\""
   ]
  },
  {
   "cell_type": "code",
   "execution_count": 3,
   "id": "ec2c1977",
   "metadata": {},
   "outputs": [],
   "source": [
    "def chatgpt_api(input_text):\n",
    "    messages = [\n",
    "    {\"role\": \"system\", \"content\": \"You are a helpful assistant.\"}]\n",
    "    \n",
    "    if input_text:\n",
    "        messages.append(\n",
    "            {\"role\": \"user\", \"content\": 'Summarize this text \"{}\" into a short and concise Dall-e2 prompt'.format(input_text)},\n",
    "        )\n",
    "        \n",
    "        chat_completion = openai.ChatCompletion.create(\n",
    "            model=\"gpt-3.5-turbo\", messages=messages\n",
    "        )\n",
    "    \n",
    "    reply = chat_completion.choices[0].message.content\n",
    "    return reply"
   ]
  },
  {
   "cell_type": "code",
   "execution_count": 4,
   "id": "6aad8929",
   "metadata": {},
   "outputs": [],
   "source": [
    "def openai_create(prompt):\n",
    "\n",
    "    response = openai.Completion.create(\n",
    "    model=\"text-davinci-003\",\n",
    "    prompt=prompt,\n",
    "    temperature=0.9,\n",
    "    max_tokens=150,\n",
    "    top_p=1,\n",
    "    frequency_penalty=0,\n",
    "    presence_penalty=0.6,\n",
    "    stop=[\" Human:\", \" AI:\"]\n",
    "    )\n",
    "\n",
    "    return response.choices[0].text"
   ]
  },
  {
   "cell_type": "code",
   "execution_count": 5,
   "id": "8df50589",
   "metadata": {},
   "outputs": [],
   "source": [
    "def whisper_transcribe2(audio):\n",
    "    os.rename(audio, audio + '.wav')\n",
    "    audio_file = open(audio + '.wav', \"rb\")\n",
    "    transcript = openai.Audio.transcribe(\"whisper-1\", audio_file)\n",
    "    return transcript[\"text\"],chatgpt_clone(transcript[\"text\"])"
   ]
  },
  {
   "cell_type": "code",
   "execution_count": 7,
   "id": "a28851df",
   "metadata": {},
   "outputs": [],
   "source": [
    "def chatgpt_clone(input):\n",
    "    output = openai_create(input)\n",
    "    return output"
   ]
  },
  {
   "cell_type": "code",
   "execution_count": 8,
   "id": "9da003bd",
   "metadata": {},
   "outputs": [],
   "source": [
    "output_1=gr.Textbox(\"Speech to Text\")\n",
    "output_2=gr.Textbox(\"Output\")"
   ]
  },
  {
   "cell_type": "code",
   "execution_count": 9,
   "id": "44711053",
   "metadata": {
    "scrolled": true
   },
   "outputs": [
    {
     "name": "stdout",
     "output_type": "stream",
     "text": [
      "Running on local URL:  http://127.0.0.1:7861\n",
      "\n",
      "To create a public link, set `share=True` in `launch()`.\n"
     ]
    },
    {
     "data": {
      "text/html": [
       "<div><iframe src=\"http://127.0.0.1:7861/\" width=\"100%\" height=\"500\" allow=\"autoplay; camera; microphone; clipboard-read; clipboard-write;\" frameborder=\"0\" allowfullscreen></iframe></div>"
      ],
      "text/plain": [
       "<IPython.core.display.HTML object>"
      ]
     },
     "metadata": {},
     "output_type": "display_data"
    },
    {
     "name": "stderr",
     "output_type": "stream",
     "text": [
      "Traceback (most recent call last):\n",
      "  File \"C:\\kandikits\\voice-to-image-generation\\voice-to-image-generation-env\\lib\\site-packages\\gradio\\routes.py\", line 394, in run_predict\n",
      "    output = await app.get_blocks().process_api(\n",
      "  File \"C:\\kandikits\\voice-to-image-generation\\voice-to-image-generation-env\\lib\\site-packages\\gradio\\blocks.py\", line 1075, in process_api\n",
      "    result = await self.call_function(\n",
      "  File \"C:\\kandikits\\voice-to-image-generation\\voice-to-image-generation-env\\lib\\site-packages\\gradio\\blocks.py\", line 884, in call_function\n",
      "    prediction = await anyio.to_thread.run_sync(\n",
      "  File \"C:\\kandikits\\voice-to-image-generation\\voice-to-image-generation-env\\lib\\site-packages\\anyio\\to_thread.py\", line 31, in run_sync\n",
      "    return await get_asynclib().run_sync_in_worker_thread(\n",
      "  File \"C:\\kandikits\\voice-to-image-generation\\voice-to-image-generation-env\\lib\\site-packages\\anyio\\_backends\\_asyncio.py\", line 937, in run_sync_in_worker_thread\n",
      "    return await future\n",
      "  File \"C:\\kandikits\\voice-to-image-generation\\voice-to-image-generation-env\\lib\\site-packages\\anyio\\_backends\\_asyncio.py\", line 867, in run\n",
      "    result = context.run(func, *args)\n",
      "  File \"C:\\Users\\arkod\\AppData\\Local\\Temp\\ipykernel_13280\\541863051.py\", line 2, in whisper_transcribe2\n",
      "    os.rename(audio, audio + '.wav')\n",
      "TypeError: unsupported operand type(s) for +: 'NoneType' and 'str'\n"
     ]
    },
    {
     "name": "stdout",
     "output_type": "stream",
     "text": [
      "Keyboard interruption in main thread... closing server.\n"
     ]
    },
    {
     "data": {
      "text/plain": []
     },
     "execution_count": 9,
     "metadata": {},
     "output_type": "execute_result"
    }
   ],
   "source": [
    "speech_interface = gr.Interface(fn = whisper_transcribe2, \n",
    "                                inputs = [gr.Audio(source=\"microphone\", type=\"filepath\")], \n",
    "                                outputs = [output_1,output_2], \n",
    "                                title = \"Generate Images using Voice\")\n",
    "\n",
    "speech_interface.launch(debug=True)"
   ]
  }
 ],
 "metadata": {
  "kernelspec": {
   "display_name": "Python 3 (ipykernel)",
   "language": "python",
   "name": "python3"
  },
  "language_info": {
   "codemirror_mode": {
    "name": "ipython",
    "version": 3
   },
   "file_extension": ".py",
   "mimetype": "text/x-python",
   "name": "python",
   "nbconvert_exporter": "python",
   "pygments_lexer": "ipython3",
   "version": "3.9.8"
  }
 },
 "nbformat": 4,
 "nbformat_minor": 5
}
